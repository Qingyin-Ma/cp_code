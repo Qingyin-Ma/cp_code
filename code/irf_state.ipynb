{
 "cells": [
  {
   "cell_type": "markdown",
   "id": "32ec2299",
   "metadata": {
    "papermill": {
     "duration": 0.009005,
     "end_time": "2024-09-04T15:03:43.721197",
     "exception": false,
     "start_time": "2024-09-04T15:03:43.712192",
     "status": "completed"
    },
    "tags": []
   },
   "source": [
    "## IRF for different $(X_{t-1}, R_{t-1}^a)$ states under the speculative channel\n",
    "\n",
    "The impulse response function (IRF) for price is defined as\n",
    "\n",
    "$$\n",
    "\\mathbb E \\left( P_{t+k} \\mid R_t^a = \\mu_R (1-\\rho_R) + \\rho_R R_{t-1}^a + \\sigma_R \\sqrt{1-\\rho_R^2}, X_{t-1}, R_{t-1}^a \\right)\n",
    "    - \\mathbb E \\left(P_{t+k} \\mid X_{t-1}, R_{t-1}^a \\right),\n",
    "\\quad k = 0,1, \\dots, K.\n",
    "$$\n",
    "\n",
    "We consider impulse responses in percentages when necessary. \n",
    "  \n",
    "Since $\\{R_t^a\\}$ is a finite Markov chain, to represent the same shock to $\\varepsilon_t^R$ for different $R_{t-1}^a$, we find the minimum state point of $\\{R_t^a\\}$ that is greater than or equal to $\\mu_R (1-\\rho_R) + \\rho_R R_{t-1}^a + \\sigma_R \\sqrt{1-\\rho_R^2}$. \n",
    "\n",
    "As long as the Tauchen discretizaion is sufficiently fine (e.g., a 500-state discretization), the resulting error should be minor. "
   ]
  },
  {
   "cell_type": "code",
   "execution_count": 1,
   "id": "79108e9f",
   "metadata": {
    "execution": {
     "iopub.execute_input": "2024-09-04T15:03:43.738750Z",
     "iopub.status.busy": "2024-09-04T15:03:43.738141Z",
     "iopub.status.idle": "2024-09-04T15:03:45.799374Z",
     "shell.execute_reply": "2024-09-04T15:03:45.797757Z"
    },
    "papermill": {
     "duration": 2.074637,
     "end_time": "2024-09-04T15:03:45.803033",
     "exception": false,
     "start_time": "2024-09-04T15:03:43.728396",
     "status": "completed"
    },
    "tags": []
   },
   "outputs": [],
   "source": [
    "run pricing"
   ]
  },
  {
   "cell_type": "code",
   "execution_count": 2,
   "id": "f5dea066",
   "metadata": {
    "execution": {
     "iopub.execute_input": "2024-09-04T15:03:45.837468Z",
     "iopub.status.busy": "2024-09-04T15:03:45.836953Z",
     "iopub.status.idle": "2024-09-04T15:03:45.842497Z",
     "shell.execute_reply": "2024-09-04T15:03:45.841220Z"
    },
    "papermill": {
     "duration": 0.028659,
     "end_time": "2024-09-04T15:03:45.846044",
     "exception": false,
     "start_time": "2024-09-04T15:03:45.817385",
     "status": "completed"
    },
    "tags": []
   },
   "outputs": [],
   "source": [
    "plt.rcParams['axes.spines.top'] = False\n",
    "plt.rcParams['axes.spines.right'] = False\n",
    "plt.rcParams[\"figure.autolayout\"] = True"
   ]
  },
  {
   "cell_type": "markdown",
   "id": "18b1dbe7",
   "metadata": {
    "papermill": {
     "duration": 0.013465,
     "end_time": "2024-09-04T15:03:45.873191",
     "exception": false,
     "start_time": "2024-09-04T15:03:45.859726",
     "status": "completed"
    },
    "tags": []
   },
   "source": [
    "### Some global parameters"
   ]
  },
  {
   "cell_type": "code",
   "execution_count": 3,
   "id": "17021320",
   "metadata": {
    "execution": {
     "iopub.execute_input": "2024-09-04T15:03:45.895649Z",
     "iopub.status.busy": "2024-09-04T15:03:45.895204Z",
     "iopub.status.idle": "2024-09-04T15:03:48.280574Z",
     "shell.execute_reply": "2024-09-04T15:03:48.279419Z"
    },
    "papermill": {
     "duration": 2.399959,
     "end_time": "2024-09-04T15:03:48.284322",
     "exception": false,
     "start_time": "2024-09-04T15:03:45.884363",
     "status": "completed"
    },
    "scrolled": true,
    "tags": []
   },
   "outputs": [
    {
     "name": "stdout",
     "output_type": "stream",
     "text": [
      "\n",
      "TRUNCATED_NORMAL_RULE\n",
      "  Python version: 3.10.14\n",
      "\n",
      "  For the (truncated) Gaussian probability density function\n",
      "    pdf(x) = exp(-0.5*((x-MU)/SIGMA)^2) / SIGMA / sqrt ( 2 * pi )\n",
      "  compute an N-point quadrature rule for approximating\n",
      "    Integral ( A <= x <= B ) f(x) pdf(x) dx\n",
      "\n",
      "  The value of OPTION determines the truncation interval [A,B]:\n",
      "  0: (-oo,+oo)\n",
      "  1: [A,+oo)\n",
      "  2: (-oo,B]\n",
      "  3: [A,B]\n",
      "\n",
      "  The user specifies OPTION, N, MU, SIGMA, A, B and FILENAME.\n",
      "\n",
      "  HEADER is used to generate 3 files:\n",
      "\n",
      "    header_w.txt - the weight file\n",
      "    header_x.txt - the abscissa file.\n",
      "    header_r.txt - the region file, listing A and B.\n",
      "\n",
      "  OPTION = 3\n",
      "  N = 7\n",
      "  MU = 0\n",
      "  SIGMA = 1\n",
      "  A = -5\n",
      "  B = 5\n",
      "  HEADER = \"gauss_quad\"\n",
      "\n",
      "  Creating quadrature files.\n",
      "\n",
      "  Common header is      \"gauss_quad\".\n",
      "\n",
      "  Weight file will be   \"gauss_quad_w.txt\".\n",
      "  Abscissa file will be \"gauss_quad_x.txt\".\n",
      "  Region file will be   \"gauss_quad_r.txt\".\n",
      "\n",
      "TRUNCATED_NORMAL_RULE:\n",
      "  Normal end of execution.\n",
      "\n",
      "Stability condition holds: G < exp(δ).\n",
      "\n",
      "G = 0.9994493947253871, exp(δ) = 1.0202013400267558\n"
     ]
    }
   ],
   "source": [
    "# Gaussian quadrature sample points and weights\n",
    "gq_points, gq_weights = gauss_quadra()\n",
    "\n",
    "# State points and prob trans matrix of {R_t}\n",
    "μ_R = 1.006230606825128     # stationary mean of {R_t}\n",
    "ρ_R = 0.9407262699728842    # autocor. coef. of {R_t}\n",
    "σ_R = 0.030020587135876593  # stationary std dev of {R_t}\n",
    "μ_R_adj = μ_R*(1-ρ_R)            # the intercept of the AR(1) process  \n",
    "σ_R_adj = σ_R*np.sqrt(1-ρ_R**2)  # the std dev of the AR(1) innovation\n",
    "Ra_vals, Π = build_dynamics(μ_R=μ_R_adj, ρ_R=ρ_R, σ_R=σ_R_adj, size=101)\n",
    "\n",
    "# Size of MC samples & forwarding steps for IRF\n",
    "size, periods = 100_000, 17 \n",
    "\n",
    "# A class that stores model information\n",
    "cp = CommodityPricing(δ=0.02,\n",
    "                      λ=0.1,\n",
    "                      κ=0.0,\n",
    "                      σ_Y=0.05,\n",
    "                      Ra_vals=Ra_vals, Π=Π,\n",
    "                      grid_size=100,\n",
    "                      gq_points=gq_points,\n",
    "                      gq_weights=gq_weights)\n",
    "test_stability(cp, verbose=True)\n",
    "\n",
    "# Size of MC samples & discarded samples to compute stat dist\n",
    "L, burn_in = 200_000, 50_000\n",
    "\n",
    "# Simulate {R_t} indices process\n",
    "mc = MarkovChain(cp.Π)\n",
    "Ra_seq = mc.simulate(L+1, random_state=1234)\n",
    "\n",
    "# Simulate {Y_t} process\n",
    "Y_sim = truncnorm.rvs(a=-cp.trunc_Y,\n",
    "                      b=cp.trunc_Y,\n",
    "                      size=L+1,\n",
    "                      loc=cp.μ_Y,\n",
    "                      scale=cp.μ_Y * cp.σ_Y,\n",
    "                      random_state=5678)\n",
    "\n",
    "X0_percs = [0.25, None, 0.75, 0.95]"
   ]
  },
  {
   "cell_type": "markdown",
   "id": "2d4fb417",
   "metadata": {
    "papermill": {
     "duration": 0.021369,
     "end_time": "2024-09-04T15:03:48.321948",
     "exception": false,
     "start_time": "2024-09-04T15:03:48.300579",
     "status": "completed"
    },
    "tags": []
   },
   "source": [
    "### IRF vs $X_{t-1}$ and $R_{t-1}^a$ (multi-periods)"
   ]
  },
  {
   "cell_type": "code",
   "execution_count": 4,
   "id": "99ce87a5",
   "metadata": {
    "execution": {
     "iopub.execute_input": "2024-09-04T15:03:48.348204Z",
     "iopub.status.busy": "2024-09-04T15:03:48.347859Z",
     "iopub.status.idle": "2024-09-04T15:03:48.358443Z",
     "shell.execute_reply": "2024-09-04T15:03:48.357453Z"
    },
    "papermill": {
     "duration": 0.02539,
     "end_time": "2024-09-04T15:03:48.361033",
     "exception": false,
     "start_time": "2024-09-04T15:03:48.335643",
     "status": "completed"
    },
    "tags": []
   },
   "outputs": [],
   "source": [
    "def irf_XR_H(δ, λ, X0_percs, Ra0s, shocks, periods=17):\n",
    "    \"\"\"\n",
    "    IRF for different (δ, λ, X0_percs, Ra0s, shocks, periods) values.\n",
    "    Multiple (X0_perc, Ra0).\n",
    "    \"\"\"\n",
    "    irf_P, irf_I, irf_ES = [np.empty((periods,\n",
    "                                      len(X0_percs), \n",
    "                                      len(Ra0s))) for i in range(3)]\n",
    "    for i, X0_perc in enumerate(X0_percs):\n",
    "        for j, Ra0 in enumerate(Ra0s):\n",
    "            impul_P, impul_I, _, _, impul_ES, _ = irf_vs_params(δ, λ, L, burn_in, \n",
    "                                                                shocks[j], Ra0, X0_perc,\n",
    "                                                                Ra_vals, Π, Ra_seq, Y_sim, \n",
    "                                                                gq_points, gq_weights,\n",
    "                                                                size=size, periods=periods)\n",
    "            irf_P[:,i,j], irf_I[:,i,j], irf_ES[:,i,j] = impul_P, impul_I, impul_ES\n",
    "    return irf_P, irf_I, irf_ES"
   ]
  },
  {
   "cell_type": "code",
   "execution_count": 5,
   "id": "01048a55",
   "metadata": {
    "execution": {
     "iopub.execute_input": "2024-09-04T15:03:48.382191Z",
     "iopub.status.busy": "2024-09-04T15:03:48.381741Z",
     "iopub.status.idle": "2024-09-04T15:03:48.387737Z",
     "shell.execute_reply": "2024-09-04T15:03:48.386218Z"
    },
    "papermill": {
     "duration": 0.019876,
     "end_time": "2024-09-04T15:03:48.390512",
     "exception": false,
     "start_time": "2024-09-04T15:03:48.370636",
     "status": "completed"
    },
    "tags": []
   },
   "outputs": [],
   "source": [
    "δ, λ = 0.02, 0.06"
   ]
  },
  {
   "cell_type": "markdown",
   "id": "b95a71f9",
   "metadata": {
    "papermill": {
     "duration": 0.009479,
     "end_time": "2024-09-04T15:03:48.410364",
     "exception": false,
     "start_time": "2024-09-04T15:03:48.400885",
     "status": "completed"
    },
    "tags": []
   },
   "source": [
    "#### Case 1. IRF vs $X_{t-1}$ \n",
    "\n",
    "Fix $R_{t-1}^a$ at the stationary mean."
   ]
  },
  {
   "cell_type": "code",
   "execution_count": 6,
   "id": "02708133",
   "metadata": {
    "execution": {
     "iopub.execute_input": "2024-09-04T15:03:48.429650Z",
     "iopub.status.busy": "2024-09-04T15:03:48.428994Z",
     "iopub.status.idle": "2024-09-04T15:03:48.437228Z",
     "shell.execute_reply": "2024-09-04T15:03:48.435624Z"
    },
    "papermill": {
     "duration": 0.020221,
     "end_time": "2024-09-04T15:03:48.439587",
     "exception": false,
     "start_time": "2024-09-04T15:03:48.419366",
     "status": "completed"
    },
    "tags": []
   },
   "outputs": [],
   "source": [
    "Ra0_perc = 50\n",
    "\n",
    "# A 100-BP positive interest rate shock\n",
    "shock = find_next_Ra(cp, Ra0_perc, shock=0.01 / σ_R_adj, \n",
    "                     μ_R=μ_R_adj, ρ_R=ρ_R, σ_R=σ_R_adj)"
   ]
  },
  {
   "cell_type": "code",
   "execution_count": 7,
   "id": "f1ef9ae0",
   "metadata": {
    "execution": {
     "iopub.execute_input": "2024-09-04T15:03:48.456605Z",
     "iopub.status.busy": "2024-09-04T15:03:48.455998Z",
     "iopub.status.idle": "2024-09-04T15:32:58.117273Z",
     "shell.execute_reply": "2024-09-04T15:32:58.115943Z"
    },
    "papermill": {
     "duration": 1749.673203,
     "end_time": "2024-09-04T15:32:58.120165",
     "exception": false,
     "start_time": "2024-09-04T15:03:48.446962",
     "status": "completed"
    },
    "tags": []
   },
   "outputs": [],
   "source": [
    "irf_PH, irf_IH, irf_PstdH = irf_XR_H(δ, λ, X0_percs, [Ra0_perc], [shock])\n",
    "irf_PH, irf_IH, irf_PstdH = irf_PH[:,:,0], irf_IH[:,:,0], irf_PstdH[:,:,0]"
   ]
  },
  {
   "cell_type": "markdown",
   "id": "287a185f",
   "metadata": {
    "papermill": {
     "duration": 0.009609,
     "end_time": "2024-09-04T15:32:58.140375",
     "exception": false,
     "start_time": "2024-09-04T15:32:58.130766",
     "status": "completed"
    },
    "tags": []
   },
   "source": [
    "#### Case 2. IRF vs $R_{t-1}^a$ \n",
    "Fix $X_{t-1}$ at the stationay mean."
   ]
  },
  {
   "cell_type": "code",
   "execution_count": 8,
   "id": "ad542ea9",
   "metadata": {
    "execution": {
     "iopub.execute_input": "2024-09-04T15:32:58.161304Z",
     "iopub.status.busy": "2024-09-04T15:32:58.160971Z",
     "iopub.status.idle": "2024-09-04T15:32:58.170175Z",
     "shell.execute_reply": "2024-09-04T15:32:58.169289Z"
    },
    "papermill": {
     "duration": 0.022808,
     "end_time": "2024-09-04T15:32:58.172572",
     "exception": false,
     "start_time": "2024-09-04T15:32:58.149764",
     "status": "completed"
    },
    "tags": []
   },
   "outputs": [],
   "source": [
    "Ra0_percs = np.quantile(Ra_seq[burn_in+1:], [0, 0.05, 0.25, 0.75, 0.95])\n",
    "Ra0_percs = np.insert(Ra0_percs, 3, 50)  # add the theoretical mean state \n",
    "Ra0_percs = np.array(Ra0_percs, dtype=int)\n",
    "\n",
    "# A 100-BP positive interest rate shock\n",
    "shocks = [find_next_Ra(cp, Ra0, shock=0.01 / σ_R_adj, \n",
    "                       μ_R=μ_R_adj, ρ_R=ρ_R, σ_R=σ_R_adj) for Ra0 in Ra0_percs]"
   ]
  },
  {
   "cell_type": "code",
   "execution_count": 9,
   "id": "ebdd661f",
   "metadata": {
    "execution": {
     "iopub.execute_input": "2024-09-04T15:32:58.193166Z",
     "iopub.status.busy": "2024-09-04T15:32:58.192865Z",
     "iopub.status.idle": "2024-09-04T16:23:45.696244Z",
     "shell.execute_reply": "2024-09-04T16:23:45.693996Z"
    },
    "papermill": {
     "duration": 3047.518097,
     "end_time": "2024-09-04T16:23:45.700311",
     "exception": false,
     "start_time": "2024-09-04T15:32:58.182214",
     "status": "completed"
    },
    "tags": []
   },
   "outputs": [],
   "source": [
    "irf_PH2, irf_IH2, irf_PstdH2 = irf_XR_H(δ, λ, [None], Ra0_percs, shocks)\n",
    "irf_PH2, irf_IH2, irf_PstdH2 = irf_PH2[:,0,:], irf_IH2[:,0,:], irf_PstdH2[:,0,:]"
   ]
  },
  {
   "cell_type": "code",
   "execution_count": 10,
   "id": "eb00311b",
   "metadata": {
    "execution": {
     "iopub.execute_input": "2024-09-04T16:23:45.735247Z",
     "iopub.status.busy": "2024-09-04T16:23:45.734744Z",
     "iopub.status.idle": "2024-09-04T16:23:45.769119Z",
     "shell.execute_reply": "2024-09-04T16:23:45.767832Z"
    },
    "papermill": {
     "duration": 0.055676,
     "end_time": "2024-09-04T16:23:45.772464",
     "exception": false,
     "start_time": "2024-09-04T16:23:45.716788",
     "status": "completed"
    },
    "tags": []
   },
   "outputs": [
    {
     "data": {
      "text/plain": [
       "array([-0.00814905, -0.01160762, -0.01402766, -0.01769889])"
      ]
     },
     "execution_count": 10,
     "metadata": {},
     "output_type": "execute_result"
    }
   ],
   "source": [
    "irf_PH[0,:]"
   ]
  },
  {
   "cell_type": "code",
   "execution_count": 11,
   "id": "fc0f9d4b",
   "metadata": {
    "execution": {
     "iopub.execute_input": "2024-09-04T16:23:45.837150Z",
     "iopub.status.busy": "2024-09-04T16:23:45.836601Z",
     "iopub.status.idle": "2024-09-04T16:23:45.845408Z",
     "shell.execute_reply": "2024-09-04T16:23:45.844122Z"
    },
    "papermill": {
     "duration": 0.045796,
     "end_time": "2024-09-04T16:23:45.848958",
     "exception": false,
     "start_time": "2024-09-04T16:23:45.803162",
     "status": "completed"
    },
    "tags": []
   },
   "outputs": [
    {
     "data": {
      "text/plain": [
       "1.7213859448366207"
      ]
     },
     "execution_count": 11,
     "metadata": {},
     "output_type": "execute_result"
    }
   ],
   "source": [
    "irf_PH[0,2]/irf_PH[0,0]"
   ]
  },
  {
   "cell_type": "code",
   "execution_count": 12,
   "id": "de5dc67b",
   "metadata": {
    "execution": {
     "iopub.execute_input": "2024-09-04T16:23:45.903327Z",
     "iopub.status.busy": "2024-09-04T16:23:45.902792Z",
     "iopub.status.idle": "2024-09-04T16:23:45.911215Z",
     "shell.execute_reply": "2024-09-04T16:23:45.909936Z"
    },
    "papermill": {
     "duration": 0.03836,
     "end_time": "2024-09-04T16:23:45.921369",
     "exception": false,
     "start_time": "2024-09-04T16:23:45.883009",
     "status": "completed"
    },
    "tags": []
   },
   "outputs": [
    {
     "data": {
      "text/plain": [
       "2.1718953407695594"
      ]
     },
     "execution_count": 12,
     "metadata": {},
     "output_type": "execute_result"
    }
   ],
   "source": [
    "irf_PH[0,-1]/irf_PH[0,0]"
   ]
  },
  {
   "cell_type": "code",
   "execution_count": 13,
   "id": "e5b627a2",
   "metadata": {
    "execution": {
     "iopub.execute_input": "2024-09-04T16:23:45.958141Z",
     "iopub.status.busy": "2024-09-04T16:23:45.957598Z",
     "iopub.status.idle": "2024-09-04T16:23:45.965641Z",
     "shell.execute_reply": "2024-09-04T16:23:45.964435Z"
    },
    "papermill": {
     "duration": 0.041897,
     "end_time": "2024-09-04T16:23:45.980572",
     "exception": false,
     "start_time": "2024-09-04T16:23:45.938675",
     "status": "completed"
    },
    "tags": []
   },
   "outputs": [
    {
     "data": {
      "text/plain": [
       "array([ 0, 22, 38, 50, 61, 76])"
      ]
     },
     "execution_count": 13,
     "metadata": {},
     "output_type": "execute_result"
    }
   ],
   "source": [
    "Ra0_percs"
   ]
  },
  {
   "cell_type": "code",
   "execution_count": 14,
   "id": "9f186aa8",
   "metadata": {
    "execution": {
     "iopub.execute_input": "2024-09-04T16:23:46.029261Z",
     "iopub.status.busy": "2024-09-04T16:23:46.028810Z",
     "iopub.status.idle": "2024-09-04T16:23:46.037087Z",
     "shell.execute_reply": "2024-09-04T16:23:46.035854Z"
    },
    "papermill": {
     "duration": 0.036227,
     "end_time": "2024-09-04T16:23:46.048623",
     "exception": false,
     "start_time": "2024-09-04T16:23:46.012396",
     "status": "completed"
    },
    "tags": []
   },
   "outputs": [
    {
     "data": {
      "text/plain": [
       "array([0.91616885, 0.95579602, 0.98461578, 1.00623061, 1.02604419,\n",
       "       1.05306272])"
      ]
     },
     "execution_count": 14,
     "metadata": {},
     "output_type": "execute_result"
    }
   ],
   "source": [
    "Ra_vals[Ra0_percs]"
   ]
  },
  {
   "cell_type": "code",
   "execution_count": 15,
   "id": "95025d4b",
   "metadata": {
    "execution": {
     "iopub.execute_input": "2024-09-04T16:23:46.095733Z",
     "iopub.status.busy": "2024-09-04T16:23:46.095292Z",
     "iopub.status.idle": "2024-09-04T16:23:46.103596Z",
     "shell.execute_reply": "2024-09-04T16:23:46.102368Z"
    },
    "papermill": {
     "duration": 0.041103,
     "end_time": "2024-09-04T16:23:46.120390",
     "exception": false,
     "start_time": "2024-09-04T16:23:46.079287",
     "status": "completed"
    },
    "tags": []
   },
   "outputs": [
    {
     "data": {
      "text/plain": [
       "array([0.92616885, 0.96579602, 0.99461578, 1.01623061, 1.03604419,\n",
       "       1.06306272])"
      ]
     },
     "execution_count": 15,
     "metadata": {},
     "output_type": "execute_result"
    }
   ],
   "source": [
    "Ra_vals[Ra0_percs] + 0.01"
   ]
  },
  {
   "cell_type": "markdown",
   "id": "f563fbc4",
   "metadata": {
    "papermill": {
     "duration": 0.017294,
     "end_time": "2024-09-04T16:23:46.168932",
     "exception": false,
     "start_time": "2024-09-04T16:23:46.151638",
     "status": "completed"
    },
    "tags": []
   },
   "source": [
    "#### IRF plot"
   ]
  },
  {
   "cell_type": "code",
   "execution_count": 17,
   "id": "d56ba8de",
   "metadata": {
    "execution": {
     "iopub.execute_input": "2024-09-04T16:24:00.756755Z",
     "iopub.status.busy": "2024-09-04T16:24:00.756099Z",
     "iopub.status.idle": "2024-09-04T16:24:00.762025Z",
     "shell.execute_reply": "2024-09-04T16:24:00.760851Z"
    },
    "papermill": {
     "duration": 0.029036,
     "end_time": "2024-09-04T16:24:00.767137",
     "exception": false,
     "start_time": "2024-09-04T16:24:00.738101",
     "status": "completed"
    },
    "tags": []
   },
   "outputs": [],
   "source": [
    "# dat = np.load('../output/simulation_results/irf_state.dat.npz')\n",
    "# irf_PH = dat['irf_PH'] \n",
    "# irf_IH = dat['irf_IH']\n",
    "# irf_PstdH = dat['irf_PstdH']\n",
    "# irf_PH2 = dat['irf_PH2'] \n",
    "# irf_IH2 = dat['irf_IH2'] \n",
    "# irf_PstdH2 = dat['irf_PstdH2']"
   ]
  },
  {
   "cell_type": "code",
   "execution_count": 18,
   "id": "6c96c7b4",
   "metadata": {
    "execution": {
     "iopub.execute_input": "2024-09-04T16:24:00.802539Z",
     "iopub.status.busy": "2024-09-04T16:24:00.801628Z",
     "iopub.status.idle": "2024-09-04T16:24:07.683565Z",
     "shell.execute_reply": "2024-09-04T16:24:07.682127Z"
    },
    "papermill": {
     "duration": 6.903718,
     "end_time": "2024-09-04T16:24:07.687174",
     "exception": false,
     "start_time": "2024-09-04T16:24:00.783456",
     "status": "completed"
    },
    "tags": []
   },
   "outputs": [
    {
     "data": {
      "image/png": "[encoded data removed]",
      "text/plain": [
       "<Figure size 800x600 with 6 Axes>"
      ]
     },
     "metadata": {},
     "output_type": "display_data"
    }
   ],
   "source": [
    "fig, axes = plt.subplots(2,3, figsize=(8,6), layout='constrained', \n",
    "                         gridspec_kw={'width_ratios': [5,5,5]})\n",
    "fig.set_constrained_layout_pads(w_pad=3./72., h_pad=3./72.)\n",
    "irf_set1 = [irf_PH, irf_IH, irf_PstdH]\n",
    "irf_set2 = [irf_PH2[:,1:-1], irf_IH2[:,1:-1], irf_PstdH2[:,1:-1]]\n",
    "irf_sets = [irf_set1, irf_set2]\n",
    "labs_X = ['25\\%', 'mean', '75\\%', '95\\%']\n",
    "labs_R = ['5\\%', '25\\%', 'mean', '75\\%']\n",
    "lss = [(0,(3,1,1,1)), '--', '-.', '-']\n",
    "titles = ['Price', 'Inventory', 'Price standard deviation']\n",
    "lw = 1.25\n",
    "\n",
    "for k in range(len(irf_sets)):\n",
    "    for j in range(len(irf_set1)):\n",
    "        ax = axes[k,j]\n",
    "        ax.spines['left'].set_linewidth(1.25)\n",
    "        ax.spines['bottom'].set_linewidth(1.25)\n",
    "        ax.set_title(titles[j], fontweight='bold')\n",
    "        ax.set_xticks([0,5,10,15])\n",
    "        if k == 0:\n",
    "            ax.set_xlabel('($R_{t-1}^a = \\mu_R$)')\n",
    "            for i, X0_perc in enumerate(X0_percs):\n",
    "                ax.plot(irf_sets[k][j][:,i]*100, ls=lss[i], c='black', lw=lw,\n",
    "                        label=f'$X_{{t-1}}^p=${labs_X[i]}')\n",
    "            if j == 0:\n",
    "                ax.legend()\n",
    "        else:\n",
    "            ax.set_xlabel('($X_{t-1} = \\\\bar X$)')\n",
    "            for i, Ra0_perc in enumerate(Ra0_percs[1:-1]):\n",
    "                if i != 2:\n",
    "                    ax.plot(irf_sets[k][j][:,i]*100, ls=lss[-(i+1)], c='black', lw=lw,\n",
    "                            label=f'$R_{{t-1}}^{{a,p}}=${labs_R[i]}')\n",
    "                    if j==0 and i==0:\n",
    "                        ax.set_ylim(-1.6,)\n",
    "                        ax.set_yticks(np.linspace(-1.5, 0, 6))\n",
    "                    if j==2:\n",
    "                        ax.set_yticks(np.linspace(1.7, 3.2, 6))\n",
    "                        \n",
    "                else:\n",
    "                    ax.plot(irf_sets[k][j][:,i]*100, ls=lss[-(i+1)], c='black', lw=lw,\n",
    "                            label=f'$R_{{t-1}}^a=\\mu_R$')      \n",
    "            if j==0:\n",
    "                ax.legend()\n",
    "fig.supxlabel('Quarters')\n",
    "fig.supylabel('$\\%$ points')\n",
    "plt.savefig('../output/figures/irf_state_Xpast_base.pdf', bbox_inches='tight', pad_inches=0.1)\n",
    "plt.show()"
   ]
  },
  {
   "cell_type": "code",
   "execution_count": 19,
   "id": "26249969",
   "metadata": {
    "execution": {
     "iopub.execute_input": "2024-09-04T16:24:07.752450Z",
     "iopub.status.busy": "2024-09-04T16:24:07.751967Z",
     "iopub.status.idle": "2024-09-04T16:24:07.757644Z",
     "shell.execute_reply": "2024-09-04T16:24:07.756336Z"
    },
    "papermill": {
     "duration": 0.031888,
     "end_time": "2024-09-04T16:24:07.760883",
     "exception": false,
     "start_time": "2024-09-04T16:24:07.728995",
     "status": "completed"
    },
    "tags": []
   },
   "outputs": [],
   "source": [
    "# np.savez('../output/simulation_results/irf_state.dat',\n",
    "#          irf_PH=irf_PH, irf_IH=irf_IH, irf_PstdH=irf_PstdH,\n",
    "#          irf_PH2=irf_PH2, irf_IH2=irf_IH2, irf_PstdH2=irf_PstdH2)"
   ]
  }
 ],
 "metadata": {
  "kernelspec": {
   "display_name": "Python 3 (ipykernel)",
   "language": "python",
   "name": "python3"
  },
  "language_info": {
   "codemirror_mode": {
    "name": "ipython",
    "version": 3
   },
   "file_extension": ".py",
   "mimetype": "text/x-python",
   "name": "python",
   "nbconvert_exporter": "python",
   "pygments_lexer": "ipython3",
   "version": "3.9.18"
  },
  "papermill": {
   "default_parameters": {},
   "duration": 13914.874329,
   "end_time": "2024-09-04T18:55:37.503046",
   "environment_variables": {},
   "exception": null,
   "input_path": "irf_state.ipynb",
   "output_path": "irf_state.ipynb",
   "parameters": {},
   "start_time": "2024-09-04T15:03:42.628717",
   "version": "2.5.0"
  },
  "toc": {
   "base_numbering": 1,
   "nav_menu": {},
   "number_sections": true,
   "sideBar": true,
   "skip_h1_title": false,
   "title_cell": "Table of Contents",
   "title_sidebar": "Contents",
   "toc_cell": false,
   "toc_position": {},
   "toc_section_display": true,
   "toc_window_display": false
  }
 },
 "nbformat": 4,
 "nbformat_minor": 5
}
