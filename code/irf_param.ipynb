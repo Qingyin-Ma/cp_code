{
 "cells": [
  {
   "cell_type": "markdown",
   "id": "1c8763ec",
   "metadata": {
    "papermill": {
     "duration": 0.012565,
     "end_time": "2024-09-04T15:03:31.181822",
     "exception": false,
     "start_time": "2024-09-04T15:03:31.169257",
     "status": "completed"
    },
    "tags": []
   },
   "source": [
    "## IRF for different $(\\delta, \\lambda)$ under the speculative channel\n",
    "\n",
    "The impulse response function (IRF) for price is defined as\n",
    "\n",
    "$$\n",
    "\\mathbb E \\left( P_{t+k} \\mid R_t^a = \\mu_R (1-\\rho_R) + \\rho_R R_{t-1}^a + \\sigma_R \\sqrt{1-\\rho_R^2}, X_{t-1}, R_{t-1}^a \\right)\n",
    "    - \\mathbb E \\left(P_{t+k} \\mid X_{t-1}, R_{t-1}^a \\right),\n",
    "\\quad k = 0,1, \\dots, K.\n",
    "$$\n",
    "\n",
    "We consider impulse responses in percentages when necessary. \n",
    "  \n",
    "Since $\\{R_t^a\\}$ is a finite Markov chain, to represent the same shock to $\\varepsilon_t^R$ for different $R_{t-1}^a$, we find the minimum state point of $\\{R_t^a\\}$ that is greater than or equal to $\\mu_R (1-\\rho_R) + \\rho_R R_{t-1}^a + \\sigma_R \\sqrt{1-\\rho_R^2}$. \n",
    "\n",
    "As long as the Tauchen discretizaion is sufficiently fine (e.g., a 500-state discretization), the resulting error should be minor. "
   ]
  },
  {
   "cell_type": "code",
   "execution_count": 1,
   "id": "ad16e22f",
   "metadata": {
    "execution": {
     "iopub.execute_input": "2024-09-04T15:03:31.205677Z",
     "iopub.status.busy": "2024-09-04T15:03:31.205281Z",
     "iopub.status.idle": "2024-09-04T15:03:33.200934Z",
     "shell.execute_reply": "2024-09-04T15:03:33.199812Z"
    },
    "papermill": {
     "duration": 2.011845,
     "end_time": "2024-09-04T15:03:33.205013",
     "exception": false,
     "start_time": "2024-09-04T15:03:31.193168",
     "status": "completed"
    },
    "tags": []
   },
   "outputs": [],
   "source": [
    "run pricing"
   ]
  },
  {
   "cell_type": "code",
   "execution_count": 2,
   "id": "400e6221",
   "metadata": {
    "execution": {
     "iopub.execute_input": "2024-09-04T15:03:33.236181Z",
     "iopub.status.busy": "2024-09-04T15:03:33.235804Z",
     "iopub.status.idle": "2024-09-04T15:03:33.241016Z",
     "shell.execute_reply": "2024-09-04T15:03:33.240096Z"
    },
    "papermill": {
     "duration": 0.02424,
     "end_time": "2024-09-04T15:03:33.244495",
     "exception": false,
     "start_time": "2024-09-04T15:03:33.220255",
     "status": "completed"
    },
    "tags": []
   },
   "outputs": [],
   "source": [
    "plt.rcParams['axes.spines.top'] = False\n",
    "plt.rcParams['axes.spines.right'] = False\n",
    "plt.rcParams[\"figure.autolayout\"] = True"
   ]
  },
  {
   "cell_type": "markdown",
   "id": "e0c592fc",
   "metadata": {
    "papermill": {
     "duration": 0.012896,
     "end_time": "2024-09-04T15:03:33.271928",
     "exception": false,
     "start_time": "2024-09-04T15:03:33.259032",
     "status": "completed"
    },
    "tags": []
   },
   "source": [
    "### Some global parameters"
   ]
  },
  {
   "cell_type": "code",
   "execution_count": 3,
   "id": "b6bd764a",
   "metadata": {
    "execution": {
     "iopub.execute_input": "2024-09-04T15:03:33.293056Z",
     "iopub.status.busy": "2024-09-04T15:03:33.292765Z",
     "iopub.status.idle": "2024-09-04T15:03:35.617753Z",
     "shell.execute_reply": "2024-09-04T15:03:35.616699Z"
    },
    "papermill": {
     "duration": 2.339418,
     "end_time": "2024-09-04T15:03:35.622159",
     "exception": false,
     "start_time": "2024-09-04T15:03:33.282741",
     "status": "completed"
    },
    "scrolled": true,
    "tags": []
   },
   "outputs": [
    {
     "name": "stdout",
     "output_type": "stream",
     "text": [
      "\n",
      "TRUNCATED_NORMAL_RULE\n",
      "  Python version: 3.10.14\n",
      "\n",
      "  For the (truncated) Gaussian probability density function\n",
      "    pdf(x) = exp(-0.5*((x-MU)/SIGMA)^2) / SIGMA / sqrt ( 2 * pi )\n",
      "  compute an N-point quadrature rule for approximating\n",
      "    Integral ( A <= x <= B ) f(x) pdf(x) dx\n",
      "\n",
      "  The value of OPTION determines the truncation interval [A,B]:\n",
      "  0: (-oo,+oo)\n",
      "  1: [A,+oo)\n",
      "  2: (-oo,B]\n",
      "  3: [A,B]\n",
      "\n",
      "  The user specifies OPTION, N, MU, SIGMA, A, B and FILENAME.\n",
      "\n",
      "  HEADER is used to generate 3 files:\n",
      "\n",
      "    header_w.txt - the weight file\n",
      "    header_x.txt - the abscissa file.\n",
      "    header_r.txt - the region file, listing A and B.\n",
      "\n",
      "  OPTION = 3\n",
      "  N = 7\n",
      "  MU = 0\n",
      "  SIGMA = 1\n",
      "  A = -5\n",
      "  B = 5\n",
      "  HEADER = \"gauss_quad\"\n",
      "\n",
      "  Creating quadrature files.\n",
      "\n",
      "  Common header is      \"gauss_quad\".\n",
      "\n",
      "  Weight file will be   \"gauss_quad_w.txt\".\n",
      "  Abscissa file will be \"gauss_quad_x.txt\".\n",
      "  Region file will be   \"gauss_quad_r.txt\".\n",
      "\n",
      "TRUNCATED_NORMAL_RULE:\n",
      "  Normal end of execution.\n",
      "\n",
      "Stability condition holds: G < exp(δ).\n",
      "\n",
      "G = 0.9994493947253871, exp(δ) = 1.0202013400267558\n"
     ]
    }
   ],
   "source": [
    "# Gaussian quadrature sample points and weights\n",
    "gq_points, gq_weights = gauss_quadra()\n",
    "\n",
    "# State points and prob trans matrix of {R_t}\n",
    "μ_R = 1.006230606825128     # stationary mean of {R_t}\n",
    "ρ_R = 0.9407262699728842    # autocor coef of {R_t}\n",
    "σ_R = 0.030020587135876593  # stationary std dev of {R_t}\n",
    "μ_R_adj = μ_R*(1-ρ_R)            # the intercept of the AR(1) process  \n",
    "σ_R_adj = σ_R*np.sqrt(1-ρ_R**2)  # the std dev of the AR(1) innovation\n",
    "Ra_vals, Π = build_dynamics(μ_R=μ_R_adj, ρ_R=ρ_R, σ_R=σ_R_adj, size=101)\n",
    "\n",
    "# Size of MC samples & forwarding steps for IRF\n",
    "size, periods = 100_000, 17 \n",
    "\n",
    "# Solve the competitive storage model\n",
    "cp = CommodityPricing(δ=0.02,\n",
    "                      λ=0.1,\n",
    "                      κ=0.0,\n",
    "                      σ_Y=0.05,\n",
    "                      Ra_vals=Ra_vals, Π=Π,\n",
    "                      grid_size=100,\n",
    "                      gq_points=gq_points,\n",
    "                      gq_weights=gq_weights)\n",
    "test_stability(cp, verbose=True)\n",
    "\n",
    "# Number of MC and discarded samples to approx the stat dist of $(X_t,R_t)$\n",
    "L, burn_in = 200_000, 50_000\n",
    "\n",
    "# Simulate {R_t^a} indices process\n",
    "mc = MarkovChain(cp.Π)\n",
    "Ra_seq = mc.simulate(L+1, random_state=1234)\n",
    "\n",
    "# Simulate {Y_t} process\n",
    "Y_sim = truncnorm.rvs(a=-cp.trunc_Y,\n",
    "                      b=cp.trunc_Y,\n",
    "                      size=L+1,\n",
    "                      loc=cp.μ_Y,\n",
    "                      scale=cp.μ_Y * cp.σ_Y,\n",
    "                      random_state=5678)\n",
    "\n",
    "# Key parameters choices\n",
    "λs = [0.03, 0.06, 0.09, 0.12, 0.15]\n",
    "# λs = [0.04, 0.08, 0.12, 0.16, 0.20]\n",
    "δs = [0.01, 0.02, 0.03, 0.04, 0.05]"
   ]
  },
  {
   "cell_type": "markdown",
   "id": "2c5772ec",
   "metadata": {
    "papermill": {
     "duration": 0.014734,
     "end_time": "2024-09-04T15:03:35.652764",
     "exception": false,
     "start_time": "2024-09-04T15:03:35.638030",
     "status": "completed"
    },
    "tags": []
   },
   "source": [
    "### CIRF under different $(\\delta, \\lambda)$"
   ]
  },
  {
   "cell_type": "code",
   "execution_count": 4,
   "id": "78e74995",
   "metadata": {
    "execution": {
     "iopub.execute_input": "2024-09-04T15:03:35.680594Z",
     "iopub.status.busy": "2024-09-04T15:03:35.680319Z",
     "iopub.status.idle": "2024-09-04T15:03:35.687724Z",
     "shell.execute_reply": "2024-09-04T15:03:35.686541Z"
    },
    "papermill": {
     "duration": 0.023086,
     "end_time": "2024-09-04T15:03:35.690335",
     "exception": false,
     "start_time": "2024-09-04T15:03:35.667249",
     "status": "completed"
    },
    "tags": []
   },
   "outputs": [],
   "source": [
    "def irf_param(δs, λs, X0_perc, Ra0_perc, shock):\n",
    "    \"\"\"\n",
    "    IRF for different (δ, λ, X0_perc, Ra0_perc, shock) values.\n",
    "    Multiple (δs, λs).\n",
    "    \"\"\"\n",
    "    irf_P, irf_I, irf_ES = [np.empty((len(δs), len(λs))) for i in range(3)]\n",
    "    for i, δ in enumerate(δs):\n",
    "        for j, λ in enumerate(λs):\n",
    "            impul_P, impul_I, _, _, impul_ES, _ = irf_vs_params(δ, λ, L, burn_in, \n",
    "                                                                shock, Ra0_perc, X0_perc,\n",
    "                                                                Ra_vals, Π, Ra_seq, Y_sim, \n",
    "                                                                gq_points, gq_weights,\n",
    "                                                                size=size, periods=1)\n",
    "            irf_P[i,j], irf_I[i,j], irf_ES[i,j] = impul_P, impul_I, impul_ES\n",
    "    return irf_P, irf_I, irf_ES"
   ]
  },
  {
   "cell_type": "markdown",
   "id": "c24e7514",
   "metadata": {
    "papermill": {
     "duration": 0.010619,
     "end_time": "2024-09-04T15:03:35.712044",
     "exception": false,
     "start_time": "2024-09-04T15:03:35.701425",
     "status": "completed"
    },
    "tags": []
   },
   "source": [
    "#### Case 1. Fix $(X_{t-1}, R_{t-1}^a)$ at the $(25\\%, 75\\%)$ percentiles"
   ]
  },
  {
   "cell_type": "code",
   "execution_count": 5,
   "id": "90fc5ec5",
   "metadata": {
    "execution": {
     "iopub.execute_input": "2024-09-04T15:03:35.733629Z",
     "iopub.status.busy": "2024-09-04T15:03:35.733277Z",
     "iopub.status.idle": "2024-09-04T15:03:35.743064Z",
     "shell.execute_reply": "2024-09-04T15:03:35.741475Z"
    },
    "papermill": {
     "duration": 0.022656,
     "end_time": "2024-09-04T15:03:35.745795",
     "exception": false,
     "start_time": "2024-09-04T15:03:35.723139",
     "status": "completed"
    },
    "tags": []
   },
   "outputs": [],
   "source": [
    "# Initial state\n",
    "Ra0 = int(np.quantile(Ra_seq[burn_in+1:], 0.25))  # 25% percentile\n",
    "X0 = 0.75  # 75% percentile\n",
    "\n",
    "# A 100-bp interest rate shock (the impulses)\n",
    "shock = find_next_Ra(cp, Ra0, shock=0.01 / σ_R_adj, \n",
    "                     μ_R=μ_R_adj, ρ_R=ρ_R, σ_R=σ_R_adj)"
   ]
  },
  {
   "cell_type": "code",
   "execution_count": 6,
   "id": "67fbc4e3",
   "metadata": {
    "execution": {
     "iopub.execute_input": "2024-09-04T15:03:35.764592Z",
     "iopub.status.busy": "2024-09-04T15:03:35.764000Z",
     "iopub.status.idle": "2024-09-04T16:12:44.270662Z",
     "shell.execute_reply": "2024-09-04T16:12:44.257381Z"
    },
    "papermill": {
     "duration": 4148.594262,
     "end_time": "2024-09-04T16:12:44.348387",
     "exception": false,
     "start_time": "2024-09-04T15:03:35.754125",
     "status": "completed"
    },
    "tags": []
   },
   "outputs": [
    {
     "name": "stdout",
     "output_type": "stream",
     "text": [
      "Time taken: 69.14127164284388 minutes.\n"
     ]
    }
   ],
   "source": [
    "start = time.time()\n",
    "irf_P, irf_I, irf_Pstd = irf_param(δs, λs, X0, Ra0, shock)\n",
    "print(f'Time taken: {(time.time()-start)/60} minutes.')\n",
    "\n",
    "# np.savez('../output/simulation_results/irf_param_R101_1.dat', \n",
    "#          R0=R0, X0=X0, shock=shock, λs=λs, δs=δs,\n",
    "#          irf_P=irf_P, irf_I=irf_I, irf_Pstd=irf_Pstd)"
   ]
  },
  {
   "cell_type": "code",
   "execution_count": 7,
   "id": "88340e6e",
   "metadata": {
    "execution": {
     "iopub.execute_input": "2024-09-04T16:12:44.418727Z",
     "iopub.status.busy": "2024-09-04T16:12:44.417746Z",
     "iopub.status.idle": "2024-09-04T16:12:44.472127Z",
     "shell.execute_reply": "2024-09-04T16:12:44.471017Z"
    },
    "papermill": {
     "duration": 0.094946,
     "end_time": "2024-09-04T16:12:44.475777",
     "exception": false,
     "start_time": "2024-09-04T16:12:44.380831",
     "status": "completed"
    },
    "tags": []
   },
   "outputs": [
    {
     "data": {
      "text/plain": [
       "array([[-2.63, -2.1 , -1.8 , -1.6 , -1.44],\n",
       "       [-2.04, -1.54, -1.27, -1.08, -0.95],\n",
       "       [-1.7 , -1.24, -0.99, -0.83, -0.72],\n",
       "       [-1.46, -1.04, -0.82, -0.68, -0.58],\n",
       "       [-1.28, -0.9 , -0.7 , -0.57, -0.48]])"
      ]
     },
     "execution_count": 7,
     "metadata": {},
     "output_type": "execute_result"
    }
   ],
   "source": [
    "np.round(irf_P*100, 2)"
   ]
  },
  {
   "cell_type": "code",
   "execution_count": 8,
   "id": "204ed0e5",
   "metadata": {
    "execution": {
     "iopub.execute_input": "2024-09-04T16:12:44.542047Z",
     "iopub.status.busy": "2024-09-04T16:12:44.541474Z",
     "iopub.status.idle": "2024-09-04T16:12:44.551766Z",
     "shell.execute_reply": "2024-09-04T16:12:44.550397Z"
    },
    "papermill": {
     "duration": 0.047006,
     "end_time": "2024-09-04T16:12:44.555217",
     "exception": false,
     "start_time": "2024-09-04T16:12:44.508211",
     "status": "completed"
    },
    "tags": []
   },
   "outputs": [
    {
     "data": {
      "text/plain": [
       "array([[-0.23, -0.49, -0.76, -1.02, -1.29],\n",
       "       [-0.24, -0.5 , -0.76, -1.02, -1.28],\n",
       "       [-0.25, -0.49, -0.74, -1.  , -1.26],\n",
       "       [-0.25, -0.49, -0.74, -0.99, -1.25],\n",
       "       [-0.25, -0.48, -0.73, -0.98, -1.25]])"
      ]
     },
     "execution_count": 8,
     "metadata": {},
     "output_type": "execute_result"
    }
   ],
   "source": [
    "np.round(irf_I*100, 2)"
   ]
  },
  {
   "cell_type": "code",
   "execution_count": 9,
   "id": "3336f6ab",
   "metadata": {
    "execution": {
     "iopub.execute_input": "2024-09-04T16:12:44.621096Z",
     "iopub.status.busy": "2024-09-04T16:12:44.620516Z",
     "iopub.status.idle": "2024-09-04T16:12:44.630253Z",
     "shell.execute_reply": "2024-09-04T16:12:44.628859Z"
    },
    "papermill": {
     "duration": 0.046648,
     "end_time": "2024-09-04T16:12:44.633724",
     "exception": false,
     "start_time": "2024-09-04T16:12:44.587076",
     "status": "completed"
    },
    "tags": []
   },
   "outputs": [
    {
     "data": {
      "text/plain": [
       "array([[0.15, 1.6 , 2.58, 3.35, 4.  ],\n",
       "       [0.81, 1.93, 2.62, 3.1 , 3.45],\n",
       "       [0.9 , 1.71, 2.17, 2.44, 2.63],\n",
       "       [0.88, 1.5 , 1.8 , 1.97, 2.08],\n",
       "       [0.84, 1.31, 1.53, 1.65, 1.72]])"
      ]
     },
     "execution_count": 9,
     "metadata": {},
     "output_type": "execute_result"
    }
   ],
   "source": [
    "np.round(irf_Pstd*100, 2)"
   ]
  },
  {
   "cell_type": "markdown",
   "id": "7fd356cd",
   "metadata": {
    "papermill": {
     "duration": 0.032092,
     "end_time": "2024-09-04T16:12:44.698279",
     "exception": false,
     "start_time": "2024-09-04T16:12:44.666187",
     "status": "completed"
    },
    "tags": []
   },
   "source": [
    "#### Case 2. Fix $(X_{t-1}, R_{t-1}^a)$ at the stationary mean"
   ]
  },
  {
   "cell_type": "code",
   "execution_count": 10,
   "id": "796bf94e",
   "metadata": {
    "execution": {
     "iopub.execute_input": "2024-09-04T16:12:44.765128Z",
     "iopub.status.busy": "2024-09-04T16:12:44.764550Z",
     "iopub.status.idle": "2024-09-04T16:12:44.773745Z",
     "shell.execute_reply": "2024-09-04T16:12:44.772387Z"
    },
    "papermill": {
     "duration": 0.04642,
     "end_time": "2024-09-04T16:12:44.777090",
     "exception": false,
     "start_time": "2024-09-04T16:12:44.730670",
     "status": "completed"
    },
    "tags": []
   },
   "outputs": [],
   "source": [
    "# Initial state\n",
    "Ra0_2, X0_2 = int(mc.n/2), None\n",
    "\n",
    "# A 100-bp interest rate shock (the impulses)\n",
    "shock_2 = find_next_Ra(cp, Ra0_2, shock=0.01 / σ_R_adj, \n",
    "                       μ_R=μ_R_adj, ρ_R=ρ_R, σ_R=σ_R_adj)"
   ]
  },
  {
   "cell_type": "code",
   "execution_count": 11,
   "id": "03cb81a7",
   "metadata": {
    "execution": {
     "iopub.execute_input": "2024-09-04T16:12:44.844293Z",
     "iopub.status.busy": "2024-09-04T16:12:44.843750Z",
     "iopub.status.idle": "2024-09-04T17:23:59.840213Z",
     "shell.execute_reply": "2024-09-04T17:23:59.838889Z"
    },
    "papermill": {
     "duration": 4275.056301,
     "end_time": "2024-09-04T17:23:59.865960",
     "exception": false,
     "start_time": "2024-09-04T16:12:44.809659",
     "status": "completed"
    },
    "tags": []
   },
   "outputs": [
    {
     "name": "stdout",
     "output_type": "stream",
     "text": [
      "Time taken: 71.24977996349335 minutes.\n"
     ]
    }
   ],
   "source": [
    "start = time.time()\n",
    "irf_P2, irf_I2, irf_Pstd2 = irf_param(δs, λs, X0_2, Ra0_2, shock_2)\n",
    "print(f'Time taken: {(time.time()-start)/60} minutes.')\n",
    "\n",
    "# np.savez('../output/simulation_results/irf_param_R101.dat', \n",
    "#          λs=λs, δs=δs, R0=R0, X0=X0, shock=shock, \n",
    "#          irf_P=irf_P, irf_I=irf_I, irf_Pstd=irf_Pstd,\n",
    "#          R0_2=R0_2, X0_2=X0_2, shock_2=shock_2, \n",
    "#          irf_P2=irf_P2, irf_I2=irf_I2, irf_Pstd2=irf_Pstd2)"
   ]
  },
  {
   "cell_type": "code",
   "execution_count": 12,
   "id": "7143f276",
   "metadata": {
    "execution": {
     "iopub.execute_input": "2024-09-04T17:23:59.905028Z",
     "iopub.status.busy": "2024-09-04T17:23:59.904598Z",
     "iopub.status.idle": "2024-09-04T17:23:59.914430Z",
     "shell.execute_reply": "2024-09-04T17:23:59.913347Z"
    },
    "papermill": {
     "duration": 0.059605,
     "end_time": "2024-09-04T17:23:59.944506",
     "exception": false,
     "start_time": "2024-09-04T17:23:59.884901",
     "status": "completed"
    },
    "tags": []
   },
   "outputs": [
    {
     "data": {
      "text/plain": [
       "array([[-2.12, -1.63, -1.36, -1.18, -1.04],\n",
       "       [-1.58, -1.16, -0.93, -0.78, -0.67],\n",
       "       [-1.28, -0.91, -0.71, -0.59, -0.49],\n",
       "       [-1.09, -0.75, -0.58, -0.46, -0.39],\n",
       "       [-0.94, -0.64, -0.48, -0.39, -0.32]])"
      ]
     },
     "execution_count": 12,
     "metadata": {},
     "output_type": "execute_result"
    }
   ],
   "source": [
    "np.round(irf_P2*100, 2)"
   ]
  },
  {
   "cell_type": "code",
   "execution_count": 13,
   "id": "44b29c6a",
   "metadata": {
    "execution": {
     "iopub.execute_input": "2024-09-04T17:23:59.998605Z",
     "iopub.status.busy": "2024-09-04T17:23:59.998219Z",
     "iopub.status.idle": "2024-09-04T17:24:00.005566Z",
     "shell.execute_reply": "2024-09-04T17:24:00.004545Z"
    },
    "papermill": {
     "duration": 0.054591,
     "end_time": "2024-09-04T17:24:00.018145",
     "exception": false,
     "start_time": "2024-09-04T17:23:59.963554",
     "status": "completed"
    },
    "tags": []
   },
   "outputs": [
    {
     "data": {
      "text/plain": [
       "array([[-0.27, -0.56, -0.85, -1.14, -1.44],\n",
       "       [-0.29, -0.58, -0.87, -1.16, -1.45],\n",
       "       [-0.3 , -0.58, -0.86, -1.16, -1.45],\n",
       "       [-0.3 , -0.57, -0.86, -1.15, -1.46],\n",
       "       [-0.3 , -0.57, -0.85, -1.15, -1.44]])"
      ]
     },
     "execution_count": 13,
     "metadata": {},
     "output_type": "execute_result"
    }
   ],
   "source": [
    "np.round(irf_I2*100, 2)"
   ]
  },
  {
   "cell_type": "code",
   "execution_count": 14,
   "id": "d599de4e",
   "metadata": {
    "execution": {
     "iopub.execute_input": "2024-09-04T17:24:00.073793Z",
     "iopub.status.busy": "2024-09-04T17:24:00.073410Z",
     "iopub.status.idle": "2024-09-04T17:24:00.080704Z",
     "shell.execute_reply": "2024-09-04T17:24:00.079696Z"
    },
    "papermill": {
     "duration": 0.049201,
     "end_time": "2024-09-04T17:24:00.091575",
     "exception": false,
     "start_time": "2024-09-04T17:24:00.042374",
     "status": "completed"
    },
    "tags": []
   },
   "outputs": [
    {
     "data": {
      "text/plain": [
       "array([[0.97, 2.27, 3.08, 3.64, 4.05],\n",
       "       [1.14, 1.91, 2.3 , 2.55, 2.71],\n",
       "       [1.05, 1.54, 1.77, 1.91, 2.01],\n",
       "       [0.94, 1.28, 1.44, 1.53, 1.62],\n",
       "       [0.84, 1.09, 1.2 , 1.3 , 1.33]])"
      ]
     },
     "execution_count": 14,
     "metadata": {},
     "output_type": "execute_result"
    }
   ],
   "source": [
    "np.round(irf_Pstd2*100, 2)"
   ]
  },
  {
   "cell_type": "code",
   "execution_count": 15,
   "id": "115c6566",
   "metadata": {
    "execution": {
     "iopub.execute_input": "2024-09-04T17:24:00.136757Z",
     "iopub.status.busy": "2024-09-04T17:24:00.136358Z",
     "iopub.status.idle": "2024-09-04T17:24:00.143644Z",
     "shell.execute_reply": "2024-09-04T17:24:00.142628Z"
    },
    "papermill": {
     "duration": 0.034513,
     "end_time": "2024-09-04T17:24:00.155741",
     "exception": false,
     "start_time": "2024-09-04T17:24:00.121228",
     "status": "completed"
    },
    "tags": []
   },
   "outputs": [
    {
     "data": {
      "text/plain": [
       "array([[-0.02625345, -0.0210232 , -0.01799996, -0.01596116, -0.01444155],\n",
       "       [-0.02041468, -0.0154447 , -0.01265783, -0.01084529, -0.00950552],\n",
       "       [-0.01695421, -0.01242006, -0.00991491, -0.00831196, -0.00719255],\n",
       "       [-0.01456934, -0.01043295, -0.00821294, -0.00677836, -0.00577191],\n",
       "       [-0.01281479, -0.00901437, -0.00699451, -0.0057269 , -0.00478374]])"
      ]
     },
     "execution_count": 15,
     "metadata": {},
     "output_type": "execute_result"
    }
   ],
   "source": [
    "irf_P"
   ]
  },
  {
   "cell_type": "code",
   "execution_count": 16,
   "id": "292b7e53",
   "metadata": {
    "execution": {
     "iopub.execute_input": "2024-09-04T17:24:00.210936Z",
     "iopub.status.busy": "2024-09-04T17:24:00.210557Z",
     "iopub.status.idle": "2024-09-04T17:24:00.217681Z",
     "shell.execute_reply": "2024-09-04T17:24:00.216692Z"
    },
    "papermill": {
     "duration": 0.045489,
     "end_time": "2024-09-04T17:24:00.220050",
     "exception": false,
     "start_time": "2024-09-04T17:24:00.174561",
     "status": "completed"
    },
    "tags": []
   },
   "outputs": [
    {
     "data": {
      "text/plain": [
       "array([[1.24037816, 1.28837819, 1.32469752, 1.35675838, 1.38473496],\n",
       "       [1.29096617, 1.33088215, 1.36162337, 1.39664774, 1.4203201 ],\n",
       "       [1.32031003, 1.35762956, 1.39460013, 1.42078658, 1.46907354],\n",
       "       [1.34234875, 1.38873243, 1.41808232, 1.47050078, 1.48094319],\n",
       "       [1.36139978, 1.40153683, 1.46198526, 1.47984679, 1.49429169]])"
      ]
     },
     "execution_count": 16,
     "metadata": {},
     "output_type": "execute_result"
    }
   ],
   "source": [
    "irf_P/irf_P2"
   ]
  },
  {
   "cell_type": "markdown",
   "id": "1ed5143c",
   "metadata": {
    "papermill": {
     "duration": 0.014113,
     "end_time": "2024-09-04T17:24:00.264665",
     "exception": false,
     "start_time": "2024-09-04T17:24:00.250552",
     "status": "completed"
    },
    "tags": []
   },
   "source": [
    "### IRF (multi-periods) "
   ]
  },
  {
   "cell_type": "code",
   "execution_count": 17,
   "id": "a180602c",
   "metadata": {
    "execution": {
     "iopub.execute_input": "2024-09-04T17:24:00.318370Z",
     "iopub.status.busy": "2024-09-04T17:24:00.317214Z",
     "iopub.status.idle": "2024-09-04T17:24:00.339162Z",
     "shell.execute_reply": "2024-09-04T17:24:00.338099Z"
    },
    "papermill": {
     "duration": 0.045452,
     "end_time": "2024-09-04T17:24:00.342276",
     "exception": false,
     "start_time": "2024-09-04T17:24:00.296824",
     "status": "completed"
    },
    "tags": []
   },
   "outputs": [],
   "source": [
    "def irf_param_H(δs, λs, X0_perc, Ra0_perc, shock, periods=17):\n",
    "    \"\"\"\n",
    "    IRF for different (δs, λs, X0_perc, Ra0_perc, shock, periods) values.\n",
    "    Multiple (δs, λs).\n",
    "    \"\"\"\n",
    "    irf_P, irf_I, irf_ES = [np.empty((periods,len(δs),len(λs))) for i in range(3)]\n",
    "    for i, δ in enumerate(δs):\n",
    "        for j, λ in enumerate(λs):\n",
    "            impul_P, impul_I, _, _, impul_ES, _ = irf_vs_params(δ, λ, L, burn_in, \n",
    "                                                                shock, Ra0_perc, X0_perc,\n",
    "                                                                Ra_vals, Π, Ra_seq, Y_sim, \n",
    "                                                                gq_points, gq_weights,\n",
    "                                                                size=size, periods=periods)\n",
    "            irf_P[:,i,j], irf_I[:,i,j], irf_ES[:,i,j] = impul_P, impul_I, impul_ES\n",
    "    return irf_P, irf_I, irf_ES"
   ]
  },
  {
   "cell_type": "code",
   "execution_count": 18,
   "id": "4d37e877",
   "metadata": {
    "execution": {
     "iopub.execute_input": "2024-09-04T17:24:00.397236Z",
     "iopub.status.busy": "2024-09-04T17:24:00.396854Z",
     "iopub.status.idle": "2024-09-04T17:24:00.402410Z",
     "shell.execute_reply": "2024-09-04T17:24:00.401374Z"
    },
    "papermill": {
     "duration": 0.029111,
     "end_time": "2024-09-04T17:24:00.405903",
     "exception": false,
     "start_time": "2024-09-04T17:24:00.376792",
     "status": "completed"
    },
    "tags": []
   },
   "outputs": [],
   "source": [
    "Ra0_perc, X0_perc = 50, None\n",
    "\n",
    "# A 100-BP interest rate shock (the impulse)\n",
    "shocks = find_next_Ra(cp, Ra0_perc, shock=0.01 / σ_R_adj,\n",
    "                      μ_R=μ_R_adj, ρ_R=ρ_R, σ_R=σ_R_adj)"
   ]
  },
  {
   "cell_type": "markdown",
   "id": "77415eea",
   "metadata": {
    "papermill": {
     "duration": 0.014698,
     "end_time": "2024-09-04T17:24:00.469526",
     "exception": false,
     "start_time": "2024-09-04T17:24:00.454828",
     "status": "completed"
    },
    "tags": []
   },
   "source": [
    "#### IRF vs $\\delta$\n",
    "\n",
    "Fix the demand elasticity $\\lambda=-0.06$"
   ]
  },
  {
   "cell_type": "code",
   "execution_count": 19,
   "id": "d1395628",
   "metadata": {
    "execution": {
     "iopub.execute_input": "2024-09-04T17:24:00.518796Z",
     "iopub.status.busy": "2024-09-04T17:24:00.518323Z",
     "iopub.status.idle": "2024-09-04T18:00:35.559263Z",
     "shell.execute_reply": "2024-09-04T18:00:35.547282Z"
    },
    "papermill": {
     "duration": 2195.079773,
     "end_time": "2024-09-04T18:00:35.563974",
     "exception": false,
     "start_time": "2024-09-04T17:24:00.484201",
     "status": "completed"
    },
    "tags": []
   },
   "outputs": [],
   "source": [
    "λ_set = [0.06]\n",
    "irf_PH, irf_IH, irf_PstdH = irf_param_H(δs, λ_set, X0_perc, Ra0_perc, shocks)\n",
    "irf_PH, irf_IH, irf_PstdH = irf_PH[:,:,0], irf_IH[:,:,0], irf_PstdH[:,:,0]"
   ]
  },
  {
   "cell_type": "markdown",
   "id": "a09d3889",
   "metadata": {
    "papermill": {
     "duration": 0.016946,
     "end_time": "2024-09-04T18:00:35.614415",
     "exception": false,
     "start_time": "2024-09-04T18:00:35.597469",
     "status": "completed"
    },
    "tags": []
   },
   "source": [
    "#### IRF vs $\\lambda$\n",
    "\n",
    "Fix depreciation rate $\\delta=0.02$"
   ]
  },
  {
   "cell_type": "code",
   "execution_count": 20,
   "id": "a0b6f351",
   "metadata": {
    "execution": {
     "iopub.execute_input": "2024-09-04T18:00:35.653822Z",
     "iopub.status.busy": "2024-09-04T18:00:35.653073Z",
     "iopub.status.idle": "2024-09-04T18:39:03.904670Z",
     "shell.execute_reply": "2024-09-04T18:39:03.902275Z"
    },
    "papermill": {
     "duration": 2308.277099,
     "end_time": "2024-09-04T18:39:03.908715",
     "exception": false,
     "start_time": "2024-09-04T18:00:35.631616",
     "status": "completed"
    },
    "scrolled": true,
    "tags": []
   },
   "outputs": [],
   "source": [
    "δ_set = [0.02]\n",
    "irf_PH_λ, irf_IH_λ, irf_PstdH_λ = irf_param_H(δ_set, λs, X0_perc, Ra0_perc, shocks)\n",
    "irf_PH_λ, irf_IH_λ, irf_PstdH_λ = irf_PH_λ[:,0,:], irf_IH_λ[:,0,:], irf_PstdH_λ[:,0,:]"
   ]
  },
  {
   "cell_type": "markdown",
   "id": "03469119",
   "metadata": {
    "papermill": {
     "duration": 0.029819,
     "end_time": "2024-09-04T18:39:03.967476",
     "exception": false,
     "start_time": "2024-09-04T18:39:03.937657",
     "status": "completed"
    },
    "tags": []
   },
   "source": [
    "#### IRF conditional on the $(75\\%,25\\%)$ percentile of $(X_{t-1},R_{t-1}^a)$"
   ]
  },
  {
   "cell_type": "code",
   "execution_count": 21,
   "id": "a4719aac",
   "metadata": {
    "execution": {
     "iopub.execute_input": "2024-09-04T18:39:04.035343Z",
     "iopub.status.busy": "2024-09-04T18:39:04.034853Z",
     "iopub.status.idle": "2024-09-04T19:58:37.925595Z",
     "shell.execute_reply": "2024-09-04T19:58:37.922749Z"
    },
    "papermill": {
     "duration": 4773.934962,
     "end_time": "2024-09-04T19:58:37.934938",
     "exception": false,
     "start_time": "2024-09-04T18:39:03.999976",
     "status": "completed"
    },
    "tags": []
   },
   "outputs": [],
   "source": [
    "Ra0_perc, X0_perc = int(np.quantile(Ra_seq[burn_in+1:], 0.25)), 0.75  # (25%,75%) percentile\n",
    "\n",
    "# A 100-BP interest rate shock (the impulse)\n",
    "shocks = find_next_Ra(cp, Ra0_perc, shock=0.01 / σ_R_adj,\n",
    "                      μ_R=μ_R_adj, ρ_R=ρ_R, σ_R=σ_R_adj)\n",
    "\n",
    "irf_PH2, irf_IH2, irf_PstdH2 = irf_param_H(δs, λ_set, X0_perc, Ra0_perc, shocks)\n",
    "irf_PH2, irf_IH2, irf_PstdH2 = irf_PH2[:,:,0], irf_IH2[:,:,0], irf_PstdH2[:,:,0]\n",
    "\n",
    "irf_PH_λ2, irf_IH_λ2, irf_PstdH_λ2 = irf_param_H(δ_set, λs, X0_perc, Ra0_perc, shocks)\n",
    "irf_PH_λ2, irf_IH_λ2, irf_PstdH_λ2 = irf_PH_λ2[:,0,:], irf_IH_λ2[:,0,:], irf_PstdH_λ2[:,0,:]"
   ]
  },
  {
   "cell_type": "code",
   "execution_count": 22,
   "id": "30a69d19",
   "metadata": {
    "execution": {
     "iopub.execute_input": "2024-09-04T19:58:37.984585Z",
     "iopub.status.busy": "2024-09-04T19:58:37.983992Z",
     "iopub.status.idle": "2024-09-04T19:58:38.002811Z",
     "shell.execute_reply": "2024-09-04T19:58:38.001439Z"
    },
    "papermill": {
     "duration": 0.04721,
     "end_time": "2024-09-04T19:58:38.007044",
     "exception": false,
     "start_time": "2024-09-04T19:58:37.959834",
     "status": "completed"
    },
    "tags": []
   },
   "outputs": [
    {
     "data": {
      "text/plain": [
       "(1.1634086088570021, 1.1850400889360893)"
      ]
     },
     "execution_count": 22,
     "metadata": {},
     "output_type": "execute_result"
    }
   ],
   "source": [
    "(irf_IH2/irf_IH).max(), (irf_IH_λ2/irf_IH_λ).max()"
   ]
  },
  {
   "cell_type": "code",
   "execution_count": 23,
   "id": "2f215052",
   "metadata": {
    "execution": {
     "iopub.execute_input": "2024-09-04T19:58:38.046763Z",
     "iopub.status.busy": "2024-09-04T19:58:38.046296Z",
     "iopub.status.idle": "2024-09-04T19:58:38.055350Z",
     "shell.execute_reply": "2024-09-04T19:58:38.054031Z"
    },
    "papermill": {
     "duration": 0.038071,
     "end_time": "2024-09-04T19:58:38.063915",
     "exception": false,
     "start_time": "2024-09-04T19:58:38.025844",
     "status": "completed"
    },
    "tags": []
   },
   "outputs": [
    {
     "data": {
      "text/plain": [
       "(1.237261411490303, 1.3027381666097917)"
      ]
     },
     "execution_count": 23,
     "metadata": {},
     "output_type": "execute_result"
    }
   ],
   "source": [
    "(irf_PstdH2/irf_PstdH).max(), (irf_PstdH_λ2/irf_PstdH_λ).max()"
   ]
  },
  {
   "cell_type": "markdown",
   "id": "7f722860",
   "metadata": {
    "papermill": {
     "duration": 0.021321,
     "end_time": "2024-09-04T19:58:38.107297",
     "exception": false,
     "start_time": "2024-09-04T19:58:38.085976",
     "status": "completed"
    },
    "tags": []
   },
   "source": [
    "#### IRF plot"
   ]
  },
  {
   "cell_type": "code",
   "execution_count": 24,
   "id": "e2b53d3d",
   "metadata": {
    "code_folding": [],
    "execution": {
     "iopub.execute_input": "2024-09-04T19:58:38.167897Z",
     "iopub.status.busy": "2024-09-04T19:58:38.167442Z",
     "iopub.status.idle": "2024-09-04T19:58:38.173039Z",
     "shell.execute_reply": "2024-09-04T19:58:38.171804Z"
    },
    "papermill": {
     "duration": 0.056808,
     "end_time": "2024-09-04T19:58:38.187244",
     "exception": false,
     "start_time": "2024-09-04T19:58:38.130436",
     "status": "completed"
    },
    "tags": []
   },
   "outputs": [],
   "source": [
    "# dat = np.load('../output/simulation_results/irf_param.dat.npz')\n",
    "# irf_PH = dat['irf_PH'] \n",
    "# irf_IH = dat['irf_IH'] \n",
    "# irf_PstdH = dat['irf_PstdH']\n",
    "# irf_PH_λ = dat['irf_PH_λ']\n",
    "# irf_IH_λ = dat['irf_IH_λ'] \n",
    "# irf_PstdH_λ = dat['irf_PstdH_λ']\n",
    "# λ_set = [0.06]\n",
    "# δ_set = [0.02]"
   ]
  },
  {
   "cell_type": "code",
   "execution_count": 25,
   "id": "179762e1",
   "metadata": {
    "execution": {
     "iopub.execute_input": "2024-09-04T19:58:38.256347Z",
     "iopub.status.busy": "2024-09-04T19:58:38.255775Z",
     "iopub.status.idle": "2024-09-04T19:58:45.857865Z",
     "shell.execute_reply": "2024-09-04T19:58:45.856393Z"
    },
    "papermill": {
     "duration": 7.648445,
     "end_time": "2024-09-04T19:58:45.867156",
     "exception": false,
     "start_time": "2024-09-04T19:58:38.218711",
     "status": "completed"
    },
    "tags": []
   },
   "outputs": [
    {
     "data": {
      "image/png": "[encoded data removed]",
      "text/plain": [
       "<Figure size 800x600 with 6 Axes>"
      ]
     },
     "metadata": {},
     "output_type": "display_data"
    }
   ],
   "source": [
    "fig, axes = plt.subplots(2,3, figsize=(8,6), layout='constrained', \n",
    "                         gridspec_kw={'width_ratios': [5,5,5]})\n",
    "fig.set_constrained_layout_pads(w_pad=3./72., h_pad=3./72.)\n",
    "irf_set1 = [irf_PH, irf_IH, irf_PstdH]\n",
    "irf_set2 = [irf_PH_λ, irf_IH_λ, irf_PstdH_λ]\n",
    "irf_sets = [irf_set1, irf_set2]\n",
    "lss = ['-', (0,(3,1,1,1)), '-.', '--', ':']\n",
    "titles = ['Price', 'Inventory', 'Price standard deviation']\n",
    "lw = 1.25\n",
    "\n",
    "for k in range(len(irf_sets)):\n",
    "    for j in range(len(irf_set1)):\n",
    "        ax = axes[k,j]\n",
    "        ax.spines['left'].set_linewidth(1.25)\n",
    "        ax.spines['bottom'].set_linewidth(1.25)\n",
    "        ax.set_title(titles[j], fontweight='bold')\n",
    "        ax.set_xticks([0,5,10,15])\n",
    "        if k == 0:\n",
    "            for i, δ in enumerate(δs):\n",
    "                ax.plot(irf_sets[k][j][:,i]*100, ls=lss[i], c='black', lw=lw, label=f'$\\\\delta=${δ}')\n",
    "                ax.set_xlabel(f'($\\lambda=-{λ_set[0]}$)')\n",
    "                if j == 0:\n",
    "                    ax.legend()\n",
    "        else:\n",
    "            for i, λ in enumerate(λs):\n",
    "                ax.plot(irf_sets[k][j][:,i]*100, ls=lss[i], c='black', lw=lw, label=f'$\\lambda=-${λ:.2f}')\n",
    "                ax.set_xlabel(f'($\\delta={δ_set[0]}$)')\n",
    "                if j == 0:\n",
    "                    ax.legend()\n",
    "fig.supxlabel('Quarters')\n",
    "fig.supylabel('$\\%$ points')\n",
    "plt.savefig('../output/figures/irf_param_Xpast_mean.pdf', bbox_inches='tight', pad_inches=0.1)\n",
    "plt.show()"
   ]
  },
  {
   "cell_type": "code",
   "execution_count": 27,
   "id": "9a6634ff",
   "metadata": {
    "execution": {
     "iopub.execute_input": "2024-09-04T19:58:48.135091Z",
     "iopub.status.busy": "2024-09-04T19:58:48.134511Z",
     "iopub.status.idle": "2024-09-04T19:58:48.141064Z",
     "shell.execute_reply": "2024-09-04T19:58:48.139664Z"
    },
    "papermill": {
     "duration": 0.050254,
     "end_time": "2024-09-04T19:58:48.155359",
     "exception": false,
     "start_time": "2024-09-04T19:58:48.105105",
     "status": "completed"
    },
    "tags": []
   },
   "outputs": [],
   "source": [
    "# np.savez('../output/simulation_results/irf_param.dat',\n",
    "#          irf_PH=irf_PH, irf_IH=irf_IH, irf_PstdH=irf_PstdH,\n",
    "#          irf_PH_λ=irf_PH_λ, irf_IH_λ=irf_IH_λ, irf_PstdH_λ=irf_PstdH_λ,\n",
    "#          irf_PH2=irf_PH2, irf_IH2=irf_IH2, irf_PstdH2=irf_PstdH2,\n",
    "#          irf_PH_λ2=irf_PH_λ2, irf_IH_λ2=irf_IH_λ2, irf_PstdH_λ2=irf_PstdH_λ2)"
   ]
  }
 ],
 "metadata": {
  "kernelspec": {
   "display_name": "Python 3 (ipykernel)",
   "language": "python",
   "name": "python3"
  },
  "language_info": {
   "codemirror_mode": {
    "name": "ipython",
    "version": 3
   },
   "file_extension": ".py",
   "mimetype": "text/x-python",
   "name": "python",
   "nbconvert_exporter": "python",
   "pygments_lexer": "ipython3",
   "version": "3.9.18"
  },
  "papermill": {
   "default_parameters": {},
   "duration": 17720.967478,
   "end_time": "2024-09-04T19:58:51.059843",
   "environment_variables": {},
   "exception": null,
   "input_path": "irf_param.ipynb",
   "output_path": "irf_param.ipynb",
   "parameters": {},
   "start_time": "2024-09-04T15:03:30.092365",
   "version": "2.5.0"
  },
  "toc": {
   "base_numbering": 1,
   "nav_menu": {},
   "number_sections": true,
   "sideBar": true,
   "skip_h1_title": false,
   "title_cell": "Table of Contents",
   "title_sidebar": "Contents",
   "toc_cell": false,
   "toc_position": {},
   "toc_section_display": true,
   "toc_window_display": false
  }
 },
 "nbformat": 4,
 "nbformat_minor": 5
}
